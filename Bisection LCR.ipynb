{
 "cells": [
  {
   "attachments": {},
   "cell_type": "markdown",
   "metadata": {},
   "source": [
    "# Question"
   ]
  },
  {
   "attachments": {},
   "cell_type": "markdown",
   "metadata": {},
   "source": [
    "The Swith in LCR circuit is thrown at a certain position for sufficientl long time to establish the full of DC voltage across capacitor C, then the switch is thrown back to the another position to discharge it through the resistance and inductance, R and L resprctively. This circuit design problem requires finding the resistance for which the capacitor is discharged to 1% of its original values at the time o.5 sec using the nbisection method. The function or R the only unknownn variable ."
   ]
  },
  {
   "attachments": {},
   "cell_type": "markdown",
   "metadata": {},
   "source": [
    "Importing Libaries"
   ]
  },
  {
   "cell_type": "code",
   "execution_count": 45,
   "metadata": {},
   "outputs": [],
   "source": [
    "import numpy as np\n",
    "import matplotlib.pyplot as plt\n",
    "from scipy import integrate\n",
    "from scipy import signal\n",
    "import matplotlib as mpl\n",
    "import matplotlib.pyplot as plt\n",
    "from math import *\n",
    "import seaborn\n",
    "from IPython.display import Image"
   ]
  },
  {
   "attachments": {},
   "cell_type": "markdown",
   "metadata": {},
   "source": [
    "Find out the roots of the function using Bisection method\n"
   ]
  },
  {
   "cell_type": "code",
   "execution_count": 46,
   "metadata": {},
   "outputs": [],
   "source": [
    "\n",
    "\n",
    "def bisection_method(f, R_lower, R_upper,L,C,q0,q,tolerance, max_iterations):\n",
    "    if f(R_lower) * f(R_upper) >= 0:\n",
    "        raise ValueError(\"The function values at the endpoints must have opposite signs.\")\n",
    "\n",
    "    # Initial values\n",
    "    iteration = 0\n",
    "    absolute_error = R_upper - R_lower \n",
    "    relative_error = 1\n",
    "\n",
    "    while absolute_error > tolerance and relative_error > tolerance and iteration < max_iterations:\n",
    "        R_mid = ( R_lower + R_upper) / 2\n",
    "        if f(R_mid) == 0:\n",
    "            break\n",
    "\n",
    "        if f( R_lower) * f(R_mid) < 0:\n",
    "            R_upper = R_mid\n",
    "        else:\n",
    "             R_lower = R_mid\n",
    "\n",
    "        # Update errors\n",
    "        absolute_error = R_upper - R_lower\n",
    "        relative_error = absolute_error / R_upper\n",
    "\n",
    "        iteration += 1\n",
    "\n",
    "        print(\"Iteration:\", iteration)\n",
    "        print(\"Approximation 0f Resistor:\", R_mid)\n",
    "        print(\"Absolute Error:\", absolute_error)\n",
    "        print(\"Relative Error:\", relative_error)\n",
    "        print()\n",
    "    return R_mid\n",
    "\n",
    "\n",
    "\n",
    "\n",
    "\n",
    "\n",
    "\n",
    "\n",
    "\n"
   ]
  },
  {
   "attachments": {},
   "cell_type": "markdown",
   "metadata": {},
   "source": [
    "Define Function"
   ]
  },
  {
   "cell_type": "code",
   "execution_count": 47,
   "metadata": {},
   "outputs": [],
   "source": [
    "# Example usage\n",
    "def f(R):\n",
    "\n",
    "    print()\n",
    "    return (np.exp((R*t)/2*L) * (np.cos ((1/L*C)-((R/2*L)**2)*t)**0.5)) -(q/q0)"
   ]
  },
  {
   "attachments": {},
   "cell_type": "markdown",
   "metadata": {},
   "source": [
    "Decleare the value of the variabl"
   ]
  },
  {
   "cell_type": "code",
   "execution_count": 48,
   "metadata": {},
   "outputs": [
    {
     "name": "stdout",
     "output_type": "stream",
     "text": [
      "\n",
      "\n",
      "\n",
      "\n",
      "\n",
      "Iteration: 1\n",
      "Approximation 0f Resistor: 300.0\n",
      "Absolute Error: 100.0\n",
      "Relative Error: 0.25\n",
      "\n",
      "\n",
      "\n",
      "\n",
      "Iteration: 2\n",
      "Approximation 0f Resistor: 350.0\n",
      "Absolute Error: 50.0\n",
      "Relative Error: 0.125\n",
      "\n",
      "\n",
      "\n",
      "\n",
      "Iteration: 3\n",
      "Approximation 0f Resistor: 375.0\n",
      "Absolute Error: 25.0\n",
      "Relative Error: 0.0625\n",
      "\n",
      "\n",
      "\n",
      "\n",
      "Iteration: 4\n",
      "Approximation 0f Resistor: 387.5\n",
      "Absolute Error: 12.5\n",
      "Relative Error: 0.03125\n",
      "\n",
      "\n",
      "\n",
      "\n",
      "Iteration: 5\n",
      "Approximation 0f Resistor: 393.75\n",
      "Absolute Error: 6.25\n",
      "Relative Error: 0.015625\n",
      "\n",
      "\n",
      "\n",
      "\n",
      "Iteration: 6\n",
      "Approximation 0f Resistor: 396.875\n",
      "Absolute Error: 3.125\n",
      "Relative Error: 0.0078125\n",
      "\n",
      "\n",
      "\n",
      "\n",
      "Iteration: 7\n",
      "Approximation 0f Resistor: 398.4375\n",
      "Absolute Error: 1.5625\n",
      "Relative Error: 0.00390625\n",
      "\n",
      "\n",
      "\n",
      "\n",
      "Iteration: 8\n",
      "Approximation 0f Resistor: 399.21875\n",
      "Absolute Error: 0.78125\n",
      "Relative Error: 0.001953125\n",
      "\n",
      "\n",
      "\n",
      "\n",
      "Iteration: 9\n",
      "Approximation 0f Resistor: 399.609375\n",
      "Absolute Error: 0.390625\n",
      "Relative Error: 0.0009765625\n",
      "\n",
      "\n",
      "\n",
      "\n",
      "Iteration: 10\n",
      "Approximation 0f Resistor: 399.8046875\n",
      "Absolute Error: 0.1953125\n",
      "Relative Error: 0.00048828125\n",
      "\n",
      "Root: 399.8046875\n"
     ]
    },
    {
     "name": "stderr",
     "output_type": "stream",
     "text": [
      "C:\\Users\\dasru\\AppData\\Local\\Temp\\ipykernel_10144\\1596708442.py:5: RuntimeWarning: invalid value encountered in double_scalars\n",
      "  return (np.exp((R*t)/2*L) * (np.cos ((1/L*C)-((R/2*L)**2)*t)**0.5)) -(q/q0)\n"
     ]
    }
   ],
   "source": [
    "R_lower = 200\n",
    "R_upper = 400\n",
    "tolerance = 0.0001\n",
    "max_iterations = 10\n",
    "L= 5                 #Inductance in Henry\n",
    "C= 100 * 10 ** -6    #Capacitance In Farad\n",
    "q0= 100              #Maximum charge in coulomb\n",
    "q= 1                 #Ammount of discharge in coulomb\n",
    "t= 0.05              #Time in second\n",
    "\n",
    "root = bisection_method(f, R_lower, R_upper,L,C,q0,q,tolerance, max_iterations)\n",
    "\n",
    "print(\"Root:\", root)"
   ]
  },
  {
   "cell_type": "code",
   "execution_count": 49,
   "metadata": {},
   "outputs": [
    {
     "name": "stdout",
     "output_type": "stream",
     "text": [
      "\n",
      "The valuse of function 5.035052462098096e+21\n"
     ]
    }
   ],
   "source": [
    "value_of_function = f(root)\n",
    "print (\"The valuse of function\", value_of_function)"
   ]
  },
  {
   "cell_type": "code",
   "execution_count": 50,
   "metadata": {},
   "outputs": [
    {
     "name": "stdout",
     "output_type": "stream",
     "text": [
      "\n"
     ]
    },
    {
     "name": "stderr",
     "output_type": "stream",
     "text": [
      "C:\\Users\\dasru\\AppData\\Local\\Temp\\ipykernel_10144\\1596708442.py:5: RuntimeWarning: invalid value encountered in sqrt\n",
      "  return (np.exp((R*t)/2*L) * (np.cos ((1/L*C)-((R/2*L)**2)*t)**0.5)) -(q/q0)\n"
     ]
    },
    {
     "data": {
      "image/png": "[encoded data removed]",
      "text/plain": [
       "<Figure size 640x480 with 1 Axes>"
      ]
     },
     "metadata": {},
     "output_type": "display_data"
    }
   ],
   "source": [
    "R_values = np.linspace(R_lower,R_upper, 1000)\n",
    "f_values = f(R_values)\n",
    "plt.plot(R_values, f_values)\n",
    "plt.xlabel('R in Ohm')\n",
    "plt.ylabel('f(R)')\n",
    "plt.grid(True)\n",
    "plt.show()\n"
   ]
  },
  {
   "cell_type": "code",
   "execution_count": 51,
   "metadata": {},
   "outputs": [
    {
     "name": "stderr",
     "output_type": "stream",
     "text": [
      "C:\\Users\\dasru\\AppData\\Local\\Temp\\ipykernel_10144\\1596708442.py:5: RuntimeWarning: invalid value encountered in sqrt\n",
      "  return (np.exp((R*t)/2*L) * (np.cos ((1/L*C)-((R/2*L)**2)*t)**0.5)) -(q/q0)\n",
      "No handles with labels found to put in legend.\n"
     ]
    },
    {
     "name": "stdout",
     "output_type": "stream",
     "text": [
      "\n"
     ]
    },
    {
     "data": {
      "image/png": "[encoded data removed]",
      "text/plain": [
       "<Figure size 640x480 with 1 Axes>"
      ]
     },
     "metadata": {},
     "output_type": "display_data"
    }
   ],
   "source": [
    "R_values = np.linspace(0,10,100)\n",
    "f_values = f(R_values)\n",
    "plt.plot(R_values, f_values)\n",
    "plt.legend()\n",
    "plt.xlabel('R in Ohm')\n",
    "plt.ylabel('f(R)')\n",
    "plt.grid(True)\n",
    "plt.show()"
   ]
  },
  {
   "cell_type": "code",
   "execution_count": 52,
   "metadata": {},
   "outputs": [
    {
     "name": "stdout",
     "output_type": "stream",
     "text": [
      "Angular Frequency 44.721359549995796\n"
     ]
    }
   ],
   "source": [
    "omega = 1/ np.sqrt(L*C)\n",
    "print(\"Angular Frequency\" , omega)"
   ]
  },
  {
   "cell_type": "code",
   "execution_count": 53,
   "metadata": {},
   "outputs": [],
   "source": [
    "freq = omega /( np.pi * 2 )"
   ]
  },
  {
   "cell_type": "code",
   "execution_count": 54,
   "metadata": {},
   "outputs": [
    {
     "name": "stdout",
     "output_type": "stream",
     "text": [
      " frequency of oscillaion 7.117625434171771\n"
     ]
    }
   ],
   "source": [
    "print(\" frequency of oscillaion\", freq)"
   ]
  }
 ],
 "metadata": {
  "kernelspec": {
   "display_name": "Python 3",
   "language": "python",
   "name": "python3"
  },
  "language_info": {
   "codemirror_mode": {
    "name": "ipython",
    "version": 3
   },
   "file_extension": ".py",
   "mimetype": "text/x-python",
   "name": "python",
   "nbconvert_exporter": "python",
   "pygments_lexer": "ipython3",
   "version": "3.9.6"
  },
  "orig_nbformat": 4
 },
 "nbformat": 4,
 "nbformat_minor": 2
}
